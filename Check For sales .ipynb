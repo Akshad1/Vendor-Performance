{
 "cells": [
  {
   "cell_type": "code",
   "execution_count": 3,
   "id": "fd7b8b3c-b841-4e34-b1bb-d8187cf4dab7",
   "metadata": {},
   "outputs": [
    {
     "name": "stdout",
     "output_type": "stream",
     "text": [
      "12825365\n"
     ]
    }
   ],
   "source": [
    "import pandas as pd\n",
    "import numpy as np\n",
    "import sqlite3\n",
    "\n",
    "import warnings\n",
    "warnings.filterwarnings(\"ignore\")\n",
    "\n",
    "import mysql.connector\n",
    "\n",
    "# Connect to MySQL\n",
    "conn = mysql.connector.connect(\n",
    "    host=\"xxxxxxxx\",       \n",
    "    user=\"xxxxxx\",            \n",
    "    password=\"xxxxxxxx\",\n",
    "    database=\"xxxxxxx\"  \n",
    "\n",
    "cursor = conn.cursor()\n",
    "\n",
    "print(pd.read_sql(f'SELECT COUNT(*) AS count FROM sales;',conn)['count'].values[0])"
   ]
  },
  {
   "cell_type": "markdown",
   "id": "e452258e-5d11-48e0-ba96-cdcf98a56f43",
   "metadata": {},
   "source": [
    "<!-- \n",
    "    NOTE: This HTML provides a concise, single-line status banner. \n",
    "    It is designed to be copied directly into a Jupyter Notebook's Markdown cell.\n",
    "-->\n",
    "<div style=\"\n",
    "    padding: 8px 15px; \n",
    "    background-color: #e9f0f8; \n",
    "    border-left: 4px solid #0056b3; \n",
    "    border-radius: 4px; \n",
    "    font-family: 'Segoe UI', Tahoma, Geneva, Verdana, sans-serif;\n",
    "    color: #004085;\n",
    "    font-size: 0.95em;\n",
    "    display: flex;\n",
    "    align-items: center;\n",
    "\">\n",
    "    <span style=\"font-weight: 700; margin-right: 10px;\">SECURITY NOTE:</span> \n",
    "    All sensitive database connection information has been <strong> *censored* </strong> .\n",
    "</div>\n"
   ]
  },
  {
   "cell_type": "code",
   "execution_count": null,
   "id": "d7247c73-d198-4c49-84b0-179106113523",
   "metadata": {},
   "outputs": [],
   "source": []
  }
 ],
 "metadata": {
  "kernelspec": {
   "display_name": "Python 3 (ipykernel)",
   "language": "python",
   "name": "python3"
  },
  "language_info": {
   "codemirror_mode": {
    "name": "ipython",
    "version": 3
   },
   "file_extension": ".py",
   "mimetype": "text/x-python",
   "name": "python",
   "nbconvert_exporter": "python",
   "pygments_lexer": "ipython3",
   "version": "3.13.5"
  }
 },
 "nbformat": 4,
 "nbformat_minor": 5
}
